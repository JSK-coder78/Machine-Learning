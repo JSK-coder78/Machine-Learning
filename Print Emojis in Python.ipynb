{
  "nbformat": 4,
  "nbformat_minor": 0,
  "metadata": {
    "colab": {
      "name": "Untitled7.ipynb",
      "provenance": []
    },
    "kernelspec": {
      "name": "python3",
      "display_name": "Python 3"
    }
  },
  "cells": [
    {
      "cell_type": "markdown",
      "metadata": {
        "id": "YUIc6biMIjmB"
      },
      "source": [
        "# **Print *Emojis* in Python**"
      ]
    },
    {
      "cell_type": "markdown",
      "metadata": {
        "id": "_TpVeCTuJHLZ"
      },
      "source": [
        "## **emojis** is a Python library for converting emoticons to words and vice versa.This library is based on gemoji database, the official GitHub emoji library for Ruby. \n",
        "## gemoji database : https://github.com/github/gemoji"
      ]
    },
    {
      "cell_type": "markdown",
      "metadata": {
        "id": "JQCxi8teJn5T"
      },
      "source": [
        "## emoji cheat sheet : https://www.webfx.com/tools/emoji-cheat-sheet/"
      ]
    },
    {
      "cell_type": "code",
      "metadata": {
        "colab": {
          "base_uri": "https://localhost:8080/"
        },
        "id": "EkVwwUUWBS6Q",
        "outputId": "08e068ee-4ca6-4f2e-b433-194e0f060084"
      },
      "source": [
        "# installation\n",
        "!pip install emojis "
      ],
      "execution_count": 40,
      "outputs": [
        {
          "output_type": "stream",
          "text": [
            "Requirement already satisfied: emojis in /usr/local/lib/python3.7/dist-packages (0.6.0)\n"
          ],
          "name": "stdout"
        }
      ]
    },
    {
      "cell_type": "code",
      "metadata": {
        "id": "VPuSiPxXC3Nn"
      },
      "source": [
        "#importing emoji package\n",
        "import emojis"
      ],
      "execution_count": 41,
      "outputs": []
    },
    {
      "cell_type": "code",
      "metadata": {
        "colab": {
          "base_uri": "https://localhost:8080/"
        },
        "id": "nI1t0SruJufu",
        "outputId": "17fe0700-21ab-4f97-cf88-3038b92145ac"
      },
      "source": [
        "# encodes emoji tag \n",
        "print(emojis.encode(':smile: :car: :clock4: :ant:'))"
      ],
      "execution_count": 44,
      "outputs": [
        {
          "output_type": "stream",
          "text": [
            "😄 🚗 🕓 🐜\n"
          ],
          "name": "stdout"
        }
      ]
    },
    {
      "cell_type": "code",
      "metadata": {
        "colab": {
          "base_uri": "https://localhost:8080/"
        },
        "id": "J61ODK7KDTpk",
        "outputId": "e91c6692-43ed-4953-c11d-d4f9f7b2f2b5"
      },
      "source": [
        "# decodes emoji \n",
        "print(emojis.decode('🐵 😄 🦴 👁️ ❤️'))"
      ],
      "execution_count": 45,
      "outputs": [
        {
          "output_type": "stream",
          "text": [
            ":monkey_face: :smile: :bone: :eye: :heart:\n"
          ],
          "name": "stdout"
        }
      ]
    },
    {
      "cell_type": "code",
      "metadata": {
        "colab": {
          "base_uri": "https://localhost:8080/"
        },
        "id": "M3LwQHdZDj59",
        "outputId": "4b923699-e970-42b3-b664-4a9e1e275c12"
      },
      "source": [
        "# returns unique emoticons from the input string\n",
        "print(emojis.get('😡 👊 🧠 🐍 💪 👊 🧠 🐍'))"
      ],
      "execution_count": 48,
      "outputs": [
        {
          "output_type": "stream",
          "text": [
            "{'🐍', '👊', '😡', '🧠', '💪'}\n"
          ],
          "name": "stdout"
        }
      ]
    },
    {
      "cell_type": "code",
      "metadata": {
        "colab": {
          "base_uri": "https://localhost:8080/"
        },
        "id": "O1CfLYWFEYrb",
        "outputId": "e6f12f6a-73ce-45e0-d564-c78f76356c95"
      },
      "source": [
        "# counts all the unique emoticons in the input string\n",
        "print(emojis.count(' 🙌 💥 😄 🙌 😄 💥', unique=True))"
      ],
      "execution_count": 51,
      "outputs": [
        {
          "output_type": "stream",
          "text": [
            "3\n"
          ],
          "name": "stdout"
        }
      ]
    },
    {
      "cell_type": "code",
      "metadata": {
        "colab": {
          "base_uri": "https://localhost:8080/"
        },
        "id": "B3NG2FOQEnsC",
        "outputId": "ec2ff451-d126-480e-dfdf-5cc2f81f464e"
      },
      "source": [
        "# counts all the emoticons in the input string\n",
        "print(emojis.count('🙌 💥 😄 🙌 😄 💥', unique=False))"
      ],
      "execution_count": 52,
      "outputs": [
        {
          "output_type": "stream",
          "text": [
            "6\n"
          ],
          "name": "stdout"
        }
      ]
    },
    {
      "cell_type": "code",
      "metadata": {
        "colab": {
          "base_uri": "https://localhost:8080/"
        },
        "id": "UhoQqObxEuBS",
        "outputId": "c2f6e128-ef3a-42f2-91e6-482e73460a16"
      },
      "source": [
        "# categories of emoji\n",
        "print(emojis.db.get_categories())"
      ],
      "execution_count": 53,
      "outputs": [
        {
          "output_type": "stream",
          "text": [
            "{'Activities', 'Animals & Nature', 'Symbols', 'Flags', 'Smileys & Emotion', 'People & Body', 'Objects', 'Travel & Places', 'Food & Drink'}\n"
          ],
          "name": "stdout"
        }
      ]
    },
    {
      "cell_type": "code",
      "metadata": {
        "colab": {
          "base_uri": "https://localhost:8080/"
        },
        "id": "4VMM-SokEsBi",
        "outputId": "3ad1620b-ce4a-4b22-ee72-3839e3ce30a3"
      },
      "source": [
        "# returns Emoji object\n",
        "print(emojis.db.get_emoji_by_alias('pray'))"
      ],
      "execution_count": 56,
      "outputs": [
        {
          "output_type": "stream",
          "text": [
            "Emoji(aliases=['pray'], emoji='🙏', tags=['please', 'hope', 'wish'], category='People & Body', unicode_version='6.0')\n"
          ],
          "name": "stdout"
        }
      ]
    },
    {
      "cell_type": "code",
      "metadata": {
        "colab": {
          "base_uri": "https://localhost:8080/"
        },
        "id": "kVepjlMUFPsq",
        "outputId": "489d7516-e75e-4916-f388-923207b66651"
      },
      "source": [
        "# iterates over all emoji found in the input string\n",
        "emojis_list = emojis.iter('smiley 😄 snake 🐍 kiss 💋 shit 💩')\n",
        "print(list(emojis_list))"
      ],
      "execution_count": 58,
      "outputs": [
        {
          "output_type": "stream",
          "text": [
            "['😄', '🐍', '💋', '💩']\n"
          ],
          "name": "stdout"
        }
      ]
    },
    {
      "cell_type": "code",
      "metadata": {
        "colab": {
          "base_uri": "https://localhost:8080/"
        },
        "id": "RIdsEvBgFzYp",
        "outputId": "b34b5541-83a5-4f44-8de0-103507c893b4"
      },
      "source": [
        "#  returns all emoji\n",
        "emoji_dict = emojis.db.get_emoji_aliases()\n",
        "print(\"Number of emoji: \",len(emoji_dict))"
      ],
      "execution_count": 62,
      "outputs": [
        {
          "output_type": "stream",
          "text": [
            "Number of emoji:  1848\n"
          ],
          "name": "stdout"
        }
      ]
    },
    {
      "cell_type": "code",
      "metadata": {
        "colab": {
          "base_uri": "https://localhost:8080/"
        },
        "id": "is3CtZ9nFvWy",
        "outputId": "9fc373df-1289-477b-8999-301f71eff404"
      },
      "source": [
        "# all tags of emoji\n",
        "emojis_tags = emojis.db.get_tags()\n",
        "print(\"Number of tags: \",len(emojis_tags))"
      ],
      "execution_count": 64,
      "outputs": [
        {
          "output_type": "stream",
          "text": [
            "Number of tags:  447\n"
          ],
          "name": "stdout"
        }
      ]
    },
    {
      "cell_type": "code",
      "metadata": {
        "colab": {
          "base_uri": "https://localhost:8080/"
        },
        "id": "9TXylPSgHYKH",
        "outputId": "5c533812-bc19-4d3c-cc37-2ca4e04478de"
      },
      "source": [
        "# emoji related to a selected tag\n",
        "emoji_obj = emojis.db.get_emojis_by_tag('freezing')\n",
        "for item in emoji_obj:\n",
        "  print(item[1])"
      ],
      "execution_count": 72,
      "outputs": [
        {
          "output_type": "stream",
          "text": [
            "🥶\n"
          ],
          "name": "stdout"
        }
      ]
    },
    {
      "cell_type": "code",
      "metadata": {
        "colab": {
          "base_uri": "https://localhost:8080/"
        },
        "id": "a8xWCfXzHn2v",
        "outputId": "0e852adf-5f87-46ff-9a50-2f10e901f3cb"
      },
      "source": [
        "emoji_obj = emojis.db.get_emojis_by_category('Objects')\n",
        "for item in emoji_obj:\n",
        "  print(item[1])"
      ],
      "execution_count": 80,
      "outputs": [
        {
          "output_type": "stream",
          "text": [
            "👓\n",
            "🕶️\n",
            "🥽\n",
            "🥼\n",
            "🦺\n",
            "👔\n",
            "👕\n",
            "👖\n",
            "🧣\n",
            "🧤\n",
            "🧥\n",
            "🧦\n",
            "👗\n",
            "👘\n",
            "🥻\n",
            "🩱\n",
            "🩲\n",
            "🩳\n",
            "👙\n",
            "👚\n",
            "👛\n",
            "👜\n",
            "👝\n",
            "🛍️\n",
            "🎒\n",
            "🩴\n",
            "👞\n",
            "👟\n",
            "🥾\n",
            "🥿\n",
            "👠\n",
            "👡\n",
            "🩰\n",
            "👢\n",
            "👑\n",
            "👒\n",
            "🎩\n",
            "🎓\n",
            "🧢\n",
            "🪖\n",
            "⛑️\n",
            "📿\n",
            "💄\n",
            "💍\n",
            "💎\n",
            "🔇\n",
            "🔈\n",
            "🔉\n",
            "🔊\n",
            "📢\n",
            "📣\n",
            "📯\n",
            "🔔\n",
            "🔕\n",
            "🎼\n",
            "🎵\n",
            "🎶\n",
            "🎙️\n",
            "🎚️\n",
            "🎛️\n",
            "🎤\n",
            "🎧\n",
            "📻\n",
            "🎷\n",
            "🪗\n",
            "🎸\n",
            "🎹\n",
            "🎺\n",
            "🎻\n",
            "🪕\n",
            "🥁\n",
            "🪘\n",
            "📱\n",
            "📲\n",
            "☎️\n",
            "📞\n",
            "📟\n",
            "📠\n",
            "🔋\n",
            "🔌\n",
            "💻\n",
            "🖥️\n",
            "🖨️\n",
            "⌨️\n",
            "🖱️\n",
            "🖲️\n",
            "💽\n",
            "💾\n",
            "💿\n",
            "📀\n",
            "🧮\n",
            "🎥\n",
            "🎞️\n",
            "📽️\n",
            "🎬\n",
            "📺\n",
            "📷\n",
            "📸\n",
            "📹\n",
            "📼\n",
            "🔍\n",
            "🔎\n",
            "🕯️\n",
            "💡\n",
            "🔦\n",
            "🏮\n",
            "🪔\n",
            "📔\n",
            "📕\n",
            "📖\n",
            "📗\n",
            "📘\n",
            "📙\n",
            "📚\n",
            "📓\n",
            "📒\n",
            "📃\n",
            "📜\n",
            "📄\n",
            "📰\n",
            "🗞️\n",
            "📑\n",
            "🔖\n",
            "🏷️\n",
            "💰\n",
            "🪙\n",
            "💴\n",
            "💵\n",
            "💶\n",
            "💷\n",
            "💸\n",
            "💳\n",
            "🧾\n",
            "💹\n",
            "✉️\n",
            "📧\n",
            "📨\n",
            "📩\n",
            "📤\n",
            "📥\n",
            "📦\n",
            "📫\n",
            "📪\n",
            "📬\n",
            "📭\n",
            "📮\n",
            "🗳️\n",
            "✏️\n",
            "✒️\n",
            "🖋️\n",
            "🖊️\n",
            "🖌️\n",
            "🖍️\n",
            "📝\n",
            "💼\n",
            "📁\n",
            "📂\n",
            "🗂️\n",
            "📅\n",
            "📆\n",
            "🗒️\n",
            "🗓️\n",
            "📇\n",
            "📈\n",
            "📉\n",
            "📊\n",
            "📋\n",
            "📌\n",
            "📍\n",
            "📎\n",
            "🖇️\n",
            "📏\n",
            "📐\n",
            "✂️\n",
            "🗃️\n",
            "🗄️\n",
            "🗑️\n",
            "🔒\n",
            "🔓\n",
            "🔏\n",
            "🔐\n",
            "🔑\n",
            "🗝️\n",
            "🔨\n",
            "🪓\n",
            "⛏️\n",
            "⚒️\n",
            "🛠️\n",
            "🗡️\n",
            "⚔️\n",
            "🔫\n",
            "🪃\n",
            "🏹\n",
            "🛡️\n",
            "🪚\n",
            "🔧\n",
            "🪛\n",
            "🔩\n",
            "⚙️\n",
            "🗜️\n",
            "⚖️\n",
            "🦯\n",
            "🔗\n",
            "⛓️\n",
            "🪝\n",
            "🧰\n",
            "🧲\n",
            "🪜\n",
            "⚗️\n",
            "🧪\n",
            "🧫\n",
            "🧬\n",
            "🔬\n",
            "🔭\n",
            "📡\n",
            "💉\n",
            "🩸\n",
            "💊\n",
            "🩹\n",
            "🩺\n",
            "🚪\n",
            "🛗\n",
            "🪞\n",
            "🪟\n",
            "🛏️\n",
            "🛋️\n",
            "🪑\n",
            "🚽\n",
            "🪠\n",
            "🚿\n",
            "🛁\n",
            "🪤\n",
            "🪒\n",
            "🧴\n",
            "🧷\n",
            "🧹\n",
            "🧺\n",
            "🧻\n",
            "🪣\n",
            "🧼\n",
            "🪥\n",
            "🧽\n",
            "🧯\n",
            "🛒\n",
            "🚬\n",
            "⚰️\n",
            "🪦\n",
            "⚱️\n",
            "🗿\n",
            "🪧\n"
          ],
          "name": "stdout"
        }
      ]
    },
    {
      "cell_type": "code",
      "metadata": {
        "colab": {
          "base_uri": "https://localhost:8080/"
        },
        "id": "5VxNfPePHljR",
        "outputId": "c324dc6f-5976-4b06-b262-cfddff71aa6f"
      },
      "source": [
        "# get emoji by unicode\n",
        "print(emojis.db.get_emoji_by_code('\\U0001faa6'))"
      ],
      "execution_count": 81,
      "outputs": [
        {
          "output_type": "stream",
          "text": [
            "Emoji(aliases=['headstone'], emoji='\\U0001faa6', tags=[], category='Objects', unicode_version='13.0')\n"
          ],
          "name": "stdout"
        }
      ]
    }
  ]
}