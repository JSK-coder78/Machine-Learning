{
  "nbformat": 4,
  "nbformat_minor": 0,
  "metadata": {
    "colab": {
      "name": "Untitled29.ipynb",
      "private_outputs": true,
      "provenance": [],
      "collapsed_sections": [],
      "toc_visible": true
    },
    "kernelspec": {
      "name": "python3",
      "display_name": "Python 3"
    }
  },
  "cells": [
    {
      "cell_type": "markdown",
      "metadata": {
        "id": "Kc9Jxq0Rn785"
      },
      "source": [
        "# **Wine Quality Prediction**"
      ]
    },
    {
      "cell_type": "markdown",
      "metadata": {
        "id": "4ghic26boNiZ"
      },
      "source": [
        "### Two datasets are included, related to red and white vinho verde wine samples, from the north of Portugal. The goal is to model wine quality based on physicochemical tests\n",
        "## **Dataset link : https://www.kaggle.com/uciml/red-wine-quality-cortez-et-al-2009**"
      ]
    },
    {
      "cell_type": "markdown",
      "metadata": {
        "id": "dnKjuSRzoeil"
      },
      "source": [
        "## Dataset description : Input variables\n",
        "### 1 - fixed acidity\n",
        "\n",
        "###2 - volatile acidity\n",
        "\n",
        "###3 - citric acid\n",
        "\n",
        "###4 - residual sugar\n",
        "\n",
        "###5 - chlorides\n",
        "\n",
        "###6 - free sulfur dioxide\n",
        "\n",
        "###7 - total sulfur dioxide\n",
        "\n",
        "###8 - density\n",
        "\n",
        "###9 - pH\n",
        "\n",
        "###10 - sulphates\n",
        "\n",
        "###11 - alcohol\n",
        "\n",
        "###Output variable (based on sensory data):\n",
        "\n",
        "###12 - quality (score between 0 and 10)"
      ]
    },
    {
      "cell_type": "markdown",
      "metadata": {
        "id": "kCS3rGtVpb56"
      },
      "source": [
        "###These datasets can be viewed as classification task. The classes are ordered and not balanced (e.g. there are many more normal wines than excellent or poor ones)."
      ]
    },
    {
      "cell_type": "code",
      "metadata": {
        "id": "gsy47LBZTqpo"
      },
      "source": [
        "# importing required packages\n",
        "import pandas as pd\n",
        "import numpy as np\n",
        "import seaborn as sns\n",
        "import matplotlib.pyplot as plt\n",
        "from sklearn.model_selection import train_test_split\n",
        "from sklearn.metrics import classification_report, confusion_matrix, accuracy_score\n",
        "import warnings\n",
        "warnings.filterwarnings('ignore')"
      ],
      "execution_count": null,
      "outputs": []
    },
    {
      "cell_type": "code",
      "metadata": {
        "id": "OwwwpScyDZDO"
      },
      "source": [
        "# loading dataset\n",
        "df=pd.read_csv(\"/content/winequality-red.csv\")\n",
        "df.head()"
      ],
      "execution_count": null,
      "outputs": []
    },
    {
      "cell_type": "code",
      "metadata": {
        "id": "5v0OqatPD1Lq"
      },
      "source": [
        "# checking null values\n",
        "df.isna().sum()"
      ],
      "execution_count": null,
      "outputs": []
    },
    {
      "cell_type": "code",
      "metadata": {
        "id": "a93CP4luD2wr"
      },
      "source": [
        "# printing features data type\n",
        "df.dtypes"
      ],
      "execution_count": null,
      "outputs": []
    },
    {
      "cell_type": "code",
      "metadata": {
        "id": "jraD2MexD32y"
      },
      "source": [
        "# list of feature columns\n",
        "print(df.columns)"
      ],
      "execution_count": null,
      "outputs": []
    },
    {
      "cell_type": "code",
      "metadata": {
        "id": "cUZiPB91D4pC"
      },
      "source": [
        "print(df.info())"
      ],
      "execution_count": null,
      "outputs": []
    },
    {
      "cell_type": "code",
      "metadata": {
        "id": "N8NqMjStD73z"
      },
      "source": [
        "# describing the statistics of the given dataset\n",
        "print(df.describe())"
      ],
      "execution_count": null,
      "outputs": []
    },
    {
      "cell_type": "code",
      "metadata": {
        "id": "Mg1mGZBvrO8w"
      },
      "source": [
        "# displaying total number of duplicate rows/samples\n",
        "df.duplicated().sum()"
      ],
      "execution_count": null,
      "outputs": []
    },
    {
      "cell_type": "code",
      "metadata": {
        "id": "_hb0KmWSD9a8"
      },
      "source": [
        "# finding a correlation between the feature columns\n",
        "df.corr()"
      ],
      "execution_count": null,
      "outputs": []
    },
    {
      "cell_type": "markdown",
      "metadata": {
        "id": "InCGxpevq3UI"
      },
      "source": [
        "## Visualization"
      ]
    },
    {
      "cell_type": "markdown",
      "metadata": {
        "id": "Sj1kqK1Wq74z"
      },
      "source": [
        "### visually displaying the correlation between the feature columns"
      ]
    },
    {
      "cell_type": "code",
      "metadata": {
        "id": "SAl5KC0BD_8z"
      },
      "source": [
        "# figure size\n",
        "fig = plt.figure(figsize = (10,6))\n",
        "\n",
        "sns.heatmap(df.corr(), annot=True)"
      ],
      "execution_count": null,
      "outputs": []
    },
    {
      "cell_type": "code",
      "metadata": {
        "id": "f5fubmhOEMwD"
      },
      "source": [
        "sns.set(style=\"whitegrid\")\n",
        "\n",
        "sns.countplot('quality', data=df)"
      ],
      "execution_count": null,
      "outputs": []
    },
    {
      "cell_type": "code",
      "metadata": {
        "id": "QPJbgzMKJPJo"
      },
      "source": [
        "# storing a list of column\n",
        "col = df.columns\n",
        "print(col)"
      ],
      "execution_count": null,
      "outputs": []
    },
    {
      "cell_type": "code",
      "metadata": {
        "id": "v_siZjlcL-AJ"
      },
      "source": [
        "fig= plt.figure(figsize=(40, 40))\n",
        "\n",
        "sns.pairplot(df, hue='quality', hue_order=col)"
      ],
      "execution_count": null,
      "outputs": []
    },
    {
      "cell_type": "code",
      "metadata": {
        "id": "XmLJUrS4Jmvv"
      },
      "source": [
        "fig, ax = plt.subplots(4, 3, figsize=(25, 40))\n",
        "k = 0\n",
        "\n",
        "for i in range(4):\n",
        "  for j in range(3):\n",
        "\n",
        "    sns.distplot(df[col[k]], rug=True, axlabel=col[k], ax=ax[i][j])\n",
        "    k += 1"
      ],
      "execution_count": null,
      "outputs": []
    },
    {
      "cell_type": "markdown",
      "metadata": {
        "id": "ji9hIVEYMrIE"
      },
      "source": [
        "###Some of the columns are highly skewed towards the right. So we have to apply a log transform to get a normal distribution.\n"
      ]
    },
    {
      "cell_type": "code",
      "metadata": {
        "id": "j_JjDmA2KlqA"
      },
      "source": [
        "# applying log transformation\n",
        "df['residual sugar'] = df['residual sugar'].apply(np.log)\n",
        "df['chlorides'] = df['chlorides'].apply(np.log)\n",
        "df['free sulfur dioxide'] = df['free sulfur dioxide'].apply(np.log)\n",
        "df['total sulfur dioxide'] = df['total sulfur dioxide'].apply(np.log)\n",
        "df['sulphates'] = df['sulphates'].apply(np.log)\n",
        "df['alcohol'] = df['alcohol'].apply(np.log)"
      ],
      "execution_count": null,
      "outputs": []
    },
    {
      "cell_type": "markdown",
      "metadata": {
        "id": "96Zjk9dCtRCG"
      },
      "source": [
        "### result after applying log transformation"
      ]
    },
    {
      "cell_type": "code",
      "metadata": {
        "id": "gbaOgnT4MyEU"
      },
      "source": [
        "fig, ax = plt.subplots(4, 3, figsize=(25, 40))\n",
        "k = 0\n",
        "\n",
        "for i in range(4):\n",
        "  for j in range(3):\n",
        "\n",
        "    sns.distplot(df[col[k]], rug=True, axlabel=col[k], ax=ax[i][j])\n",
        "    k += 1"
      ],
      "execution_count": null,
      "outputs": []
    },
    {
      "cell_type": "code",
      "metadata": {
        "id": "KqUFwifGO7FA"
      },
      "source": [
        "# correlation between output and input feature\n",
        "df.corr()['quality'].sort_values(ascending=False)[1:]"
      ],
      "execution_count": null,
      "outputs": []
    },
    {
      "cell_type": "code",
      "metadata": {
        "id": "ZoS2UhuCQ8Di"
      },
      "source": [
        "# creating X-->input feature vector and y-->output feature vector\n",
        "\n",
        "X = df.drop('quality', axis = 1)\n",
        "y = df['quality']"
      ],
      "execution_count": null,
      "outputs": []
    },
    {
      "cell_type": "code",
      "metadata": {
        "id": "y9E8W5M8STsN"
      },
      "source": [
        "# splitting the dataset\n",
        "X_train, X_test, y_train, y_test = train_test_split(X, y, test_size = 0.25, random_state=21)"
      ],
      "execution_count": null,
      "outputs": []
    },
    {
      "cell_type": "code",
      "metadata": {
        "id": "Fkk9-Lb7SZy_"
      },
      "source": [
        "# normalizing the dataset\n",
        "\n",
        "from sklearn.preprocessing import StandardScaler\n",
        "\n",
        "sc = StandardScaler()\n",
        "X_train = sc.fit_transform(X_train)\n",
        "X_test = sc.transform(X_test)"
      ],
      "execution_count": null,
      "outputs": []
    },
    {
      "cell_type": "markdown",
      "metadata": {
        "id": "fl1dTMpluSk3"
      },
      "source": [
        "## Aplplying Machine Learning model"
      ]
    },
    {
      "cell_type": "code",
      "metadata": {
        "id": "jEQ6cVHfZ5Ri"
      },
      "source": [
        "from lightgbm import LGBMClassifier\n",
        "\n",
        "lgbm = LGBMClassifier()\n",
        "\n",
        "# fitting the model to the training set\n",
        "lgbm.fit(X_train, y_train)"
      ],
      "execution_count": null,
      "outputs": []
    },
    {
      "cell_type": "code",
      "metadata": {
        "id": "uEWF2hIiZ7Bl"
      },
      "source": [
        "# predicting output\n",
        "prediction = lgbm.predict(X_test)\n",
        "\n",
        "lgbm_acc = accuracy_score(y_test, prediction)\n",
        "print(f\"Accuracy Score of Training Data is {accuracy_score(y_train, lgbm.predict(X_train))}\")\n",
        "print(f\"Accuracy Score of Testing  Data is {lgbm_acc}\")"
      ],
      "execution_count": null,
      "outputs": []
    },
    {
      "cell_type": "code",
      "metadata": {
        "id": "MTC5oi4eoDqO"
      },
      "source": [
        "print(\"\\n Train Data: LGBM_Confusion Matrix:\\n \")\n",
        "print(confusion_matrix(y_train, lgbm.predict(X_train)))\n",
        "\n",
        "print(\"\\n Train Data: LGBM_Classification Report:\\n \")\n",
        "print(classification_report(y_train, lgbm.predict(X_train)))"
      ],
      "execution_count": null,
      "outputs": []
    },
    {
      "cell_type": "code",
      "metadata": {
        "id": "wJgH2OoDe0Rt"
      },
      "source": [
        "from xgboost import XGBClassifier\n",
        "\n",
        "xgb = XGBClassifier(learning_rate = 0.1, loss = 'deviance', n_estimators = 100, max_dept=25)\n",
        "xgb.fit(X_train, y_train)\n",
        "\n",
        "# predicting output over the test set\n",
        "prediction = xgb.predict(X_test)\n",
        "\n",
        "xgb_acc = accuracy_score(y_test, prediction)\n",
        "\n",
        "print(f\"Accuracy Score of Training Data is {accuracy_score(y_train, xgb.predict(X_train))}\")\n",
        "print(f\"Accuracy Score of Training Data is {xgb_acc}\\n\")"
      ],
      "execution_count": null,
      "outputs": []
    },
    {
      "cell_type": "code",
      "metadata": {
        "id": "WIgSks_5oOzY"
      },
      "source": [
        "print(\"\\n Train Data: xgboost_Confusion Matrix:\\n \")\n",
        "print(confusion_matrix(y_train, xgb.predict(X_train)))\n",
        "\n",
        "print(\"\\n Train Data: xgboost_Classification Report:\\n \")\n",
        "print(classification_report(y_train, xgb.predict(X_train)))"
      ],
      "execution_count": null,
      "outputs": []
    },
    {
      "cell_type": "code",
      "metadata": {
        "id": "8t0ydpzQoRqC"
      },
      "source": [
        ""
      ],
      "execution_count": null,
      "outputs": []
    },
    {
      "cell_type": "code",
      "metadata": {
        "id": "UhDRF-dpfF8Z"
      },
      "source": [
        "from sklearn.ensemble import RandomForestClassifier\n",
        "\n",
        "from sklearn.model_selection import GridSearchCV\n",
        "\n",
        "\n",
        "rf = RandomForestClassifier()\n",
        "parameters = {\n",
        "    'min_samples_split' : [2, 3, 4, 5],\n",
        "    'max_depth' : [10, 15, 20, 25],\n",
        "    'n_estimators' : [90, 100, 110, 120]\n",
        "}\n",
        "\n",
        "\n",
        "\n",
        "grid_search = GridSearchCV(rf, parameters, cv = 10, n_jobs = -1)\n",
        "grid_search.fit(X_train, y_train)"
      ],
      "execution_count": null,
      "outputs": []
    },
    {
      "cell_type": "code",
      "metadata": {
        "id": "N3CCsC8Ee_xm"
      },
      "source": [
        "# best paramters \n",
        "grid_search.best_params_"
      ],
      "execution_count": null,
      "outputs": []
    },
    {
      "cell_type": "code",
      "metadata": {
        "id": "yf9f1OK3g7ZX"
      },
      "source": [
        "grid_search.best_score_"
      ],
      "execution_count": null,
      "outputs": []
    },
    {
      "cell_type": "code",
      "metadata": {
        "id": "tRfvHS6zg9qk"
      },
      "source": [
        "rf = RandomForestClassifier(max_depth = 15, min_samples_split = 3, n_estimators = 100)\n",
        "rf.fit(X_train, y_train)\n",
        "\n",
        "prediction = rf.predict(X_test)\n",
        "\n",
        "rf_acc = accuracy_score(y_test, prediction)\n",
        "\n",
        "print(f\"Accuracy Score of Training Data is {accuracy_score(y_train, rf.predict(X_train))}\")\n",
        "print(f\"Accuracy Score of Testing Data is {rf_acc}\\n\")"
      ],
      "execution_count": null,
      "outputs": []
    },
    {
      "cell_type": "code",
      "metadata": {
        "id": "VtuEE1-LoVHw"
      },
      "source": [
        "print(\"\\n Train Data: RandomForestClassifier_Confusion Matrix:\\n \")\n",
        "print(confusion_matrix(y_train, rf.predict(X_train)))\n",
        "\n",
        "print(\"\\n Train Data: RandomForestClassifier_Classification Report:\\n \")\n",
        "print(classification_report(y_train, rf.predict(X_train)))"
      ],
      "execution_count": null,
      "outputs": []
    },
    {
      "cell_type": "code",
      "metadata": {
        "id": "2DKjiuYPhTOM"
      },
      "source": [
        "from sklearn.ensemble import GradientBoostingClassifier\n",
        "\n",
        "gb = GradientBoostingClassifier()\n",
        "parameters = {\n",
        "    'min_samples_split' : [2, 3, 4, 5, 6],\n",
        "    'min_samples_leaf' : [1, 2, 3, 4],\n",
        "    'n_estimators' : [80, 90, 100, 110, 120]\n",
        "}\n",
        "\n",
        "grid_search = GridSearchCV(gb, parameters, cv = 10, n_jobs = -1)\n",
        "grid_search.fit(X_train, y_train)"
      ],
      "execution_count": null,
      "outputs": []
    },
    {
      "cell_type": "code",
      "metadata": {
        "id": "X5H7ImWMngwp"
      },
      "source": [
        "grid_search.best_params_"
      ],
      "execution_count": null,
      "outputs": []
    },
    {
      "cell_type": "code",
      "metadata": {
        "id": "Bo4pLVxjnhIo"
      },
      "source": [
        "grid_search.best_score_"
      ],
      "execution_count": null,
      "outputs": []
    },
    {
      "cell_type": "code",
      "metadata": {
        "id": "7rELHB_Sni2P"
      },
      "source": [
        "gb = GradientBoostingClassifier(min_samples_leaf = 1, min_samples_split = 6, n_estimators = 120)\n",
        "gb.fit(X_train, y_train)\n",
        "\n",
        "prediction = gb.predict(X_test)\n",
        "\n",
        "gb_acc = accuracy_score(y_test, prediction)\n",
        "\n",
        "print(f\"Accuracy Score of Training Data is {accuracy_score(y_train, gb.predict(X_train))}\")\n",
        "print(f\"Accuracy Score of Testing Data is {gb_acc}\\n\")"
      ],
      "execution_count": null,
      "outputs": []
    },
    {
      "cell_type": "code",
      "metadata": {
        "id": "8hPo-S7Snu52"
      },
      "source": [
        "print(\"\\n Train Data: GradientBoostingClassifier_Confusion Matrix:\\n \")\n",
        "print(confusion_matrix(y_train, gb.predict(X_train)))\n",
        "\n",
        "print(\"\\n Train Data: GradientBoostingClassifier_Classification Report:\\n \")\n",
        "print(classification_report(y_train, gb.predict(X_train)))"
      ],
      "execution_count": null,
      "outputs": []
    },
    {
      "cell_type": "code",
      "metadata": {
        "id": "wX734TTuiRJW"
      },
      "source": [
        "from sklearn.ensemble import ExtraTreesClassifier\n",
        "\n",
        "etc = ExtraTreesClassifier()\n",
        "etc.fit(X_train, y_train)\n",
        "\n",
        "prediction = etc.predict(X_test)\n",
        "\n",
        "etc_acc = accuracy_score(y_test, prediction)\n",
        "\n",
        "print(f\"Accuracy Score of Training Data is {accuracy_score(y_train, etc.predict(X_train))}\")\n",
        "print(f\"Accuracy Score of Testing Data is {etc_acc} \\n\")"
      ],
      "execution_count": null,
      "outputs": []
    },
    {
      "cell_type": "code",
      "metadata": {
        "id": "8xv5Tlfun7DB"
      },
      "source": [
        "print(\"\\n Train Data: ExtraTreesClassifier_Confusion Matrix:\\n \")\n",
        "print(confusion_matrix(y_train, etc.predict(X_train)))\n",
        "\n",
        "print(\"\\n Train Data: ExtraTreesClassifier_Classification Report:\\n \")\n",
        "print(classification_report(y_train, etc.predict(X_train)))"
      ],
      "execution_count": null,
      "outputs": []
    },
    {
      "cell_type": "code",
      "metadata": {
        "id": "AmZpM1bWnyTK"
      },
      "source": [
        "from sklearn.neighbors import KNeighborsClassifier\n",
        "\n",
        "knn = KNeighborsClassifier()\n",
        "parameters = {\n",
        "    'n_neighbors' : [5, 10, 15],\n",
        "    'weights' : ['distance'],\n",
        "    'leaf_size' : [20, 25, 30, 35]\n",
        "}\n",
        "\n",
        "grid_search = GridSearchCV(knn, parameters, cv = 10, n_jobs = -1)\n",
        "grid_search.fit(X_train, y_train)"
      ],
      "execution_count": null,
      "outputs": []
    },
    {
      "cell_type": "code",
      "metadata": {
        "id": "8qucOpQOaLRx"
      },
      "source": [
        "grid_search.best_params_"
      ],
      "execution_count": null,
      "outputs": []
    },
    {
      "cell_type": "code",
      "metadata": {
        "id": "EewJ7zx5qBtA"
      },
      "source": [
        "grid_search.best_score_"
      ],
      "execution_count": null,
      "outputs": []
    },
    {
      "cell_type": "code",
      "metadata": {
        "id": "DHA3sbjAqELs"
      },
      "source": [
        "knn = KNeighborsClassifier(n_neighbors = 15, leaf_size = 20, weights = 'distance')\n",
        "knn.fit(X_train, y_train)\n",
        "\n",
        "prediction = knn.predict(X_test)\n",
        "\n",
        "knn_acc = accuracy_score(y_test, prediction)\n",
        "\n",
        "print(f\"Accuracy Score of Training Data is {accuracy_score(y_train, knn.predict(X_train))}\")\n",
        "print(f\"Accuracy Score of Testing Data is {knn_acc}\\n\")"
      ],
      "execution_count": null,
      "outputs": []
    },
    {
      "cell_type": "code",
      "metadata": {
        "id": "b8PFHdoyqh9W"
      },
      "source": [
        "print(\"\\n Train Data: KNN_Confusion Matrix:\\n \")\n",
        "print(confusion_matrix(y_train, knn.predict(X_train)))\n",
        "\n",
        "print(\"\\n Train Data: KNN_Classification Report:\\n \")\n",
        "print(classification_report(y_train, knn.predict(X_train)))"
      ],
      "execution_count": null,
      "outputs": []
    },
    {
      "cell_type": "markdown",
      "metadata": {
        "id": "0I_GQbG7xKoV"
      },
      "source": [
        "### Plotting the accuracy of all the above ML model"
      ]
    },
    {
      "cell_type": "code",
      "metadata": {
        "id": "50sIyBbJqm2k"
      },
      "source": [
        "models = pd.DataFrame({\n",
        "    'Model' : ['LGBM', 'XgBoost', 'RandomForestClassifier', 'Gradient Boosting', \n",
        "               'Extra Tree', 'KNN'\n",
        "              ],\n",
        "    'Score' : [lgbm_acc, xgb_acc, rf_acc, gb_acc, etc_acc, knn_acc]\n",
        "})\n",
        "\n",
        "\n",
        "models.sort_values(by = 'Score', ascending = False)"
      ],
      "execution_count": null,
      "outputs": []
    },
    {
      "cell_type": "code",
      "metadata": {
        "id": "3aUdz3gDcUq5"
      },
      "source": [
        "plt.figure(figsize = (20, 8))\n",
        "\n",
        "sns.barplot(x = 'Model', y = 'Score', data = models)\n",
        "plt.show()"
      ],
      "execution_count": null,
      "outputs": []
    },
    {
      "cell_type": "code",
      "metadata": {
        "id": "U9uNd8hNXLQ1"
      },
      "source": [
        ""
      ],
      "execution_count": null,
      "outputs": []
    },
    {
      "cell_type": "code",
      "metadata": {
        "id": "nnUfJT5WTY7n"
      },
      "source": [
        ""
      ],
      "execution_count": null,
      "outputs": []
    },
    {
      "cell_type": "code",
      "metadata": {
        "id": "vGjEmTSGQ8AQ"
      },
      "source": [
        ""
      ],
      "execution_count": null,
      "outputs": []
    }
  ]
}